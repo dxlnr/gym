{
 "cells": [
  {
   "cell_type": "code",
   "execution_count": 3,
   "id": "d3726fbe",
   "metadata": {},
   "outputs": [],
   "source": [
    "# Building RAG Chatbots with LangChain"
   ]
  },
  {
   "cell_type": "code",
   "execution_count": 4,
   "id": "ae60d0e7",
   "metadata": {},
   "outputs": [
    {
     "ename": "SyntaxError",
     "evalue": "unterminated string literal (detected at line 3) (4162745525.py, line 3)",
     "output_type": "error",
     "traceback": [
      "\u001b[0;36m  Cell \u001b[0;32mIn[4], line 3\u001b[0;36m\u001b[0m\n\u001b[0;31m    You'll need to get an [Cohere API key](https://dashboard.cohere.com/api-keys) and [Weaviate API key](https://weaviate.io/).\u001b[0m\n\u001b[0m       ^\u001b[0m\n\u001b[0;31mSyntaxError\u001b[0m\u001b[0;31m:\u001b[0m unterminated string literal (detected at line 3)\n"
     ]
    }
   ],
   "source": [
    "### Before you begin\n",
    "\n",
    "You'll need to get an [Cohere API key](https://dashboard.cohere.com/api-keys) and [Weaviate API key](https://weaviate.io/)."
   ]
  },
  {
   "cell_type": "code",
   "execution_count": 1,
   "id": "7f1c3a69",
   "metadata": {},
   "outputs": [],
   "source": [
    "### Prerequisites"
   ]
  },
  {
   "cell_type": "code",
   "execution_count": 2,
   "id": "1106c872",
   "metadata": {},
   "outputs": [
    {
     "ename": "SyntaxError",
     "evalue": "invalid syntax (614226523.py, line 1)",
     "output_type": "error",
     "traceback": [
      "\u001b[0;36m  Cell \u001b[0;32mIn[2], line 1\u001b[0;36m\u001b[0m\n\u001b[0;31m    - **langchain**: This is a library for GenAI. Used to chain together different language models and components for the chatbot.\u001b[0m\n\u001b[0m      ^\u001b[0m\n\u001b[0;31mSyntaxError\u001b[0m\u001b[0;31m:\u001b[0m invalid syntax\n"
     ]
    }
   ],
   "source": [
    "- **langchain**: This is a library for GenAI. Used to chain together different language models and components for the chatbot.\n",
    "- **datasets**: This library provides a vast array of datasets for machine learning.\n",
    "- **weaviate-client**: This is the official Weaviate Python client to interact with the Weaviate API and store data in a vector database.\n",
    "- **cohere**: Python client for cohere.\n",
    "    \n",
    "You can install these libraries using pip like so:"
   ]
  },
  {
   "cell_type": "code",
   "execution_count": 3,
   "id": "fdeb01c8",
   "metadata": {},
   "outputs": [],
   "source": [
    "!pip install -qU \\\n",
    "    langchain==0.0.335 \\\n",
    "    cohere==4.34 \\\n",
    "    weaviate-client==3.25.3 \\\n",
    "    datasets==2.14.6 \\\n",
    "    tiktoken==0.5.1"
   ]
  },
  {
   "cell_type": "code",
   "execution_count": 4,
   "id": "565396a9",
   "metadata": {},
   "outputs": [],
   "source": [
    "import os\n",
    "import cohere\n",
    "import weaviate\n",
    "from dotenv import load_dotenv\n",
    "\n",
    "load_dotenv()\n",
    "co_api_key = os.getenv(\"COHERE_API_KEY\") or \"YOUR_API_KEY\"\n",
    "\n",
    "co_client = cohere.Client(co_api_key)"
   ]
  },
  {
   "cell_type": "code",
   "execution_count": 14,
   "id": "5d5e5cb0",
   "metadata": {},
   "outputs": [],
   "source": [
    "from langchain.chat_models import ChatCohere\n",
    "chat = ChatCohere(cohere_api_key=co_api_key)"
   ]
  },
  {
   "cell_type": "code",
   "execution_count": 15,
   "id": "96c0c69b",
   "metadata": {},
   "outputs": [],
   "source": [
    "from langchain.schema import (\n",
    "    SystemMessage,\n",
    "    HumanMessage,\n",
    "    AIMessage\n",
    ")\n",
    "\n",
    "messages = [\n",
    "    SystemMessage(content=\"Cohere Chatbot\"),\n",
    "    HumanMessage(content=\"What is string theory? Can you elaborate on the latest theorical outline.\")\n",
    "]"
   ]
  },
  {
   "cell_type": "code",
   "execution_count": 20,
   "id": "f221d83f",
   "metadata": {},
   "outputs": [],
   "source": [
    "resp = chat(messages)"
   ]
  },
  {
   "cell_type": "code",
   "execution_count": 21,
   "id": "fbb5906a",
   "metadata": {},
   "outputs": [
    {
     "name": "stdout",
     "output_type": "stream",
     "text": [
      "String theory emerged in the late 1970s as a theoretical framework to explain the nature of reality, by describing matter in terms of tiny one-dimensional strings. The theory seeks to address some of the most fundamental questions in physics, such as the nature of matter, the behavior of gravity, and the nature of space and time. In recent years, string theory has evolved to include various aspects of quantum mechanics and general relativity, leading to a more comprehensive and unified understanding of the fundamental laws of nature.\n",
      "\n",
      "As a theory, string theory is highly abstract and complex, and it has faced many challenges and controversies in its development. However, recent advances in mathematical and computational techniques have allowed researchers to make significant progress in studying the behavior of strings and their interactions. These developments have led to a better understanding of the fundamental properties of strings and the ways in which they can be used to describe the behavior of matter and energy in the universe.\n",
      "\n",
      "One of the key features of string theory is its ability to unify the fundamental forces of nature. In this theory, the different forces, such as gravity, electromagnetism, and the strong and weak nuclear forces, are described as different vibrations of the same fundamental strings. This provides a potentially elegant and unified description of the fundamental interactions in the universe, which has long been a goal of theoretical physics.\n",
      "\n",
      "In addition to its theoretical implications, string theory has also generated significant interest due to its potential to provide a unified framework for understanding the fundamental nature of reality. It has the potential to bridge the gap between the macroscopic world we observe and the microscopic world described by quantum mechanics, and to provide a consistent and unified description of the fundamental laws of nature.\n",
      "\n",
      "However, despite these promising developments, string theory remains a highly abstract and complex theory, and many questions and challenges remain to be addressed. In particular, it has yet to be fully integrated with experimental physics and observational evidence, and there is ongoing debate about its validity and applicability. Nonetheless, string theory continues to be an active and evolving area of research, and it has the potential to make significant contributions to our understanding of the fundamental nature of reality.\n"
     ]
    }
   ],
   "source": [
    "print(resp.content)"
   ]
  },
  {
   "cell_type": "code",
   "execution_count": null,
   "id": "bd438a2a",
   "metadata": {},
   "outputs": [],
   "source": [
    "### Importing the Data"
   ]
  },
  {
   "cell_type": "code",
   "execution_count": null,
   "id": "15a0ad70-61cd-497e-a671-bf8aa4c0fe79",
   "metadata": {},
   "outputs": [],
   "source": [
    "from datasets import load_dataset\n",
    "\n",
    "dataset = load_dataset(\n",
    "    \"\",\n",
    "    split=\"train\"\n",
    ")\n",
    "\n",
    "dataset"
   ]
  }
 ],
 "metadata": {
  "kernelspec": {
   "display_name": "Python 3 (ipykernel)",
   "language": "python",
   "name": "python3"
  },
  "language_info": {
   "codemirror_mode": {
    "name": "ipython",
    "version": 3
   },
   "file_extension": ".py",
   "mimetype": "text/x-python",
   "name": "python",
   "nbconvert_exporter": "python",
   "pygments_lexer": "ipython3",
   "version": "3.11.4"
  }
 },
 "nbformat": 4,
 "nbformat_minor": 5
}
